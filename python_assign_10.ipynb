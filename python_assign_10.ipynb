{
  "cells": [
    {
      "cell_type": "markdown",
      "source": [
        "1. Write a Python Program to find sum of elements in list?\n"
      ],
      "metadata": {
        "id": "U6leRjkXsXoC"
      }
    },
    {
      "cell_type": "code",
      "source": [
        "l = [2,4,1,5,6,7]\n",
        "\n",
        "total = 0\n",
        "for i in l:\n",
        "  total +=i\n",
        "print(total)\n",
        "\n"
      ],
      "metadata": {
        "colab": {
          "base_uri": "https://localhost:8080/"
        },
        "id": "HCR8luIQsfz_",
        "outputId": "796642a3-e7a7-4cb6-9068-3b512a778e46"
      },
      "execution_count": 11,
      "outputs": [
        {
          "output_type": "stream",
          "name": "stdout",
          "text": [
            "25\n"
          ]
        }
      ]
    },
    {
      "cell_type": "markdown",
      "source": [
        "2. Write a Python Program to Multiply all numbers in the list?\n"
      ],
      "metadata": {
        "id": "vrbSeWgXszvC"
      }
    },
    {
      "cell_type": "code",
      "source": [
        "l = [2,4,1,5,6,7]\n",
        "\n",
        "mul= 1\n",
        "for i in l:\n",
        "  mul +=i\n",
        "print(mul)\n"
      ],
      "metadata": {
        "colab": {
          "base_uri": "https://localhost:8080/"
        },
        "id": "ZsS3bTHvs6db",
        "outputId": "08990702-c1f8-49f6-a46e-bd3621b87ea1"
      },
      "execution_count": 12,
      "outputs": [
        {
          "output_type": "stream",
          "name": "stdout",
          "text": [
            "26\n"
          ]
        }
      ]
    },
    {
      "cell_type": "markdown",
      "source": [
        "3. Write a Python Program to find smallest number in a list?\n"
      ],
      "metadata": {
        "id": "PXTLyqhYtK4N"
      }
    },
    {
      "cell_type": "code",
      "source": [
        "l = [2,0,1,1235,6,-7123]\n",
        "\n",
        "minimum= l[0]\n",
        "\n",
        "for i in l:\n",
        "  if i < minimum:\n",
        "    minimum = i\n",
        "  print(minimum)"
      ],
      "metadata": {
        "colab": {
          "base_uri": "https://localhost:8080/"
        },
        "id": "Nn7kIvVutR37",
        "outputId": "05e8c2e7-ea4c-4f7f-d8b3-b43e8bedd0b2"
      },
      "execution_count": 13,
      "outputs": [
        {
          "output_type": "stream",
          "name": "stdout",
          "text": [
            "2\n",
            "0\n",
            "0\n",
            "0\n",
            "0\n",
            "-7123\n"
          ]
        }
      ]
    },
    {
      "cell_type": "markdown",
      "source": [
        "4. Write a Python Program to find largest number in a list?\n"
      ],
      "metadata": {
        "id": "VTZ_nVent18_"
      }
    },
    {
      "cell_type": "code",
      "source": [
        "l =[2,0,1,1235,6,-7123]\n",
        "\n",
        "maximum = l[0]\n",
        "\n",
        "for i in l:\n",
        "  if i > maximum:\n",
        "    maximum = i\n",
        "print(maximum)"
      ],
      "metadata": {
        "colab": {
          "base_uri": "https://localhost:8080/"
        },
        "id": "9KZvI8XhuBEg",
        "outputId": "bc4dbbf2-baa2-4a4f-b972-7c83aafe7faa"
      },
      "execution_count": 14,
      "outputs": [
        {
          "output_type": "stream",
          "name": "stdout",
          "text": [
            "1235\n"
          ]
        }
      ]
    },
    {
      "cell_type": "markdown",
      "source": [
        "5. Write a Python Program to find secon largest number in a list?\n"
      ],
      "metadata": {
        "id": "Zg9zDpdruYO3"
      }
    },
    {
      "cell_type": "code",
      "source": [
        "l = [2,0,1,1235,6,-7123]\n",
        "\n",
        "l.sort(reverse= True)\n",
        "\n",
        "print(\"second largest number:\", l[1])\n"
      ],
      "metadata": {
        "colab": {
          "base_uri": "https://localhost:8080/"
        },
        "id": "cj5tggg-uh1D",
        "outputId": "da2c779d-f419-468a-e799-a8dcf6ba4feb"
      },
      "execution_count": 15,
      "outputs": [
        {
          "output_type": "stream",
          "name": "stdout",
          "text": [
            "second largest number: 6\n"
          ]
        }
      ]
    },
    {
      "cell_type": "markdown",
      "source": [
        "7. write a Python program to print even numbers in a list?\n"
      ],
      "metadata": {
        "id": "RZLo7ANxzvy9"
      }
    },
    {
      "cell_type": "code",
      "source": [
        "l = [2,0,1,1235,6,-7123,21,54,12,-23,-42]\n",
        "\n",
        "[ i for i in l if i%2==0]"
      ],
      "metadata": {
        "id": "XInVwgIVz37b",
        "outputId": "a56f3568-94a6-405e-932f-229f2a80e157",
        "colab": {
          "base_uri": "https://localhost:8080/"
        }
      },
      "execution_count": 21,
      "outputs": [
        {
          "output_type": "execute_result",
          "data": {
            "text/plain": [
              "[2, 0, 6, 54, 12, -42]"
            ]
          },
          "metadata": {},
          "execution_count": 21
        }
      ]
    },
    {
      "cell_type": "markdown",
      "source": [
        "8. write a Python Program to print odd numbers in a list?\n"
      ],
      "metadata": {
        "id": "yT0FS8Sj0L5y"
      }
    },
    {
      "cell_type": "code",
      "source": [
        "l = [2,0,1,1235,6,-7123,21,54,12,-23,-42]\n",
        "\n",
        "[ i for i in l if i%2==1]\n"
      ],
      "metadata": {
        "id": "3_T8UHLL0TYd",
        "outputId": "ac7631c1-3938-4da3-8b94-7ae40ff885c2",
        "colab": {
          "base_uri": "https://localhost:8080/"
        }
      },
      "execution_count": 22,
      "outputs": [
        {
          "output_type": "execute_result",
          "data": {
            "text/plain": [
              "[1, 1235, -7123, 21, -23]"
            ]
          },
          "metadata": {},
          "execution_count": 22
        }
      ]
    },
    {
      "cell_type": "markdown",
      "source": [
        "9. Write a Python Program to Remove empty list form list?\n"
      ],
      "metadata": {
        "id": "p0VRcdgU0oFG"
      }
    },
    {
      "cell_type": "code",
      "source": [
        "l = [[],12,31,[1,2,-23],[1],[],[123.23],[],2,321]\n",
        "\n",
        "result = []\n",
        "\n",
        "for i in l:\n",
        "  if type(i) == list:\n",
        "      if len(i) !=0:\n",
        "        result.append(i)\n",
        "  else:\n",
        "    result.append(i)\n",
        "\n",
        "result\n",
        ""
      ],
      "metadata": {
        "id": "52biqInD0uq-",
        "outputId": "a5d33914-f8ee-4240-d422-0ccc6643486c",
        "colab": {
          "base_uri": "https://localhost:8080/"
        }
      },
      "execution_count": 26,
      "outputs": [
        {
          "output_type": "execute_result",
          "data": {
            "text/plain": [
              "[12, 31, [1, 2, -23], [1], [123.23], 2, 321]"
            ]
          },
          "metadata": {},
          "execution_count": 26
        }
      ]
    },
    {
      "cell_type": "markdown",
      "source": [
        "10. write a Python Program to cloning or copying a list?\n"
      ],
      "metadata": {
        "id": "S3WUPS0_2HLS"
      }
    },
    {
      "cell_type": "code",
      "source": [
        "list1 = [2,1,31,412,3,4667,[2,3,1]]\n",
        "\n",
        "list2 =[]\n",
        "\n",
        "for i in list1:\n",
        "  list2.append(i)\n",
        "\n",
        "print(list2)"
      ],
      "metadata": {
        "id": "8GUrPnOg2Q1M",
        "outputId": "675570eb-eb8b-422f-c747-f3125660fd52",
        "colab": {
          "base_uri": "https://localhost:8080/"
        }
      },
      "execution_count": 27,
      "outputs": [
        {
          "output_type": "stream",
          "name": "stdout",
          "text": [
            "[2, 1, 31, 412, 3, 4667, [2, 3, 1]]\n"
          ]
        }
      ]
    },
    {
      "cell_type": "markdown",
      "source": [
        "11. write a Python Program to Count occurrences of an element in list?\n"
      ],
      "metadata": {
        "id": "nPZANvAV2w9Y"
      }
    },
    {
      "cell_type": "code",
      "source": [
        "l = [1,1,1,3,4,1,7,8,6,6,2,1]\n",
        "\n",
        "def occurrences(lst, element):\n",
        "  count= 0\n",
        "  for i in lst:\n",
        "    if i == element:\n",
        "      count+= 1\n",
        "      return count\n",
        "    occurrences(1,1)"
      ],
      "metadata": {
        "id": "yv0sMA_C27iM"
      },
      "execution_count": 30,
      "outputs": []
    }
  ],
  "metadata": {
    "colab": {
      "provenance": []
    },
    "kernelspec": {
      "display_name": "Python 3",
      "name": "python3"
    },
    "language_info": {
      "name": "python"
    }
  },
  "nbformat": 4,
  "nbformat_minor": 0
}