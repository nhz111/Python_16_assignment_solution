{
  "cells": [
    {
      "cell_type": "markdown",
      "source": [
        "1.write a python program to find words which are greater thatn given length k?\n"
      ],
      "metadata": {
        "id": "aZ3baSxDFK9r"
      }
    },
    {
      "cell_type": "code",
      "source": [
        "def task1(list_of_words: list, k: int):\n",
        "  output= []\n",
        "  for i in list_of_words:\n",
        "    if len(i) > k:\n",
        "      output.append(i)\n",
        "  return output\n",
        "\n",
        "list_of_words = ['apple','banana','kiwi','berry','almond']\n",
        "k=5\n",
        "\n",
        "task1(list_of_words, k)"
      ],
      "metadata": {
        "id": "nZEcDRb8FVH5",
        "outputId": "3e86bf9d-28f9-4486-9a4b-ef9b195aab08",
        "colab": {
          "base_uri": "https://localhost:8080/"
        }
      },
      "execution_count": 33,
      "outputs": [
        {
          "output_type": "execute_result",
          "data": {
            "text/plain": [
              "['banana', 'almond']"
            ]
          },
          "metadata": {},
          "execution_count": 33
        }
      ]
    },
    {
      "cell_type": "markdown",
      "source": [
        "2.write a python programe for removing i-th character from a string?\n"
      ],
      "metadata": {
        "id": "MZ18LP4tHNT-"
      }
    },
    {
      "cell_type": "code",
      "source": [
        "def task2(string: str, i):\n",
        "  string = string.replace(string[i],'')\n",
        "  return string\n",
        "task2('abcdefgh',4)\n"
      ],
      "metadata": {
        "id": "c1CiS5OpHkV0",
        "outputId": "6460a316-759e-4aed-baf6-05f056aae0af",
        "colab": {
          "base_uri": "https://localhost:8080/",
          "height": 36
        }
      },
      "execution_count": 36,
      "outputs": [
        {
          "output_type": "execute_result",
          "data": {
            "text/plain": [
              "'abcdfgh'"
            ],
            "application/vnd.google.colaboratory.intrinsic+json": {
              "type": "string"
            }
          },
          "metadata": {},
          "execution_count": 36
        }
      ]
    },
    {
      "cell_type": "markdown",
      "source": [
        "3.write a python Program for removing i-th character from a string?"
      ],
      "metadata": {
        "id": "TJQi02Q6Itw7"
      }
    },
    {
      "cell_type": "code",
      "source": [
        "string = 'write a Python program to split and join a string?'\n",
        "\n",
        "split = string.split(' ')\n",
        "\n",
        "print(split)\n",
        "\n",
        "join = \" \".join(split)\n",
        "print(join)"
      ],
      "metadata": {
        "id": "Ui4bSi80Is5V",
        "outputId": "f662319f-1e48-42c5-923c-2cb841189214",
        "colab": {
          "base_uri": "https://localhost:8080/"
        }
      },
      "execution_count": 40,
      "outputs": [
        {
          "output_type": "stream",
          "name": "stdout",
          "text": [
            "['write', 'a', 'Python', 'program', 'to', 'split', 'and', 'join', 'a', 'string?']\n",
            "write a Python program to split and join a string?\n"
          ]
        }
      ]
    },
    {
      "cell_type": "markdown",
      "source": [
        "4. write a pyhon program to check if a given string is binary string or not?\n"
      ],
      "metadata": {
        "id": "QCZe-6CBK9Gu"
      }
    },
    {
      "cell_type": "code",
      "source": [
        "string = input(\"Enter the stirng:\")\n",
        "binary = ['0', 1]\n",
        "\n",
        "is_binary = True\n",
        "for i in string:\n",
        "  if i not in binary:\n",
        "    is_binary = False\n",
        "if is_binary:\n",
        "  print(\"Binary\")\n",
        "else:\n",
        "  print('Not binary')\n",
        "\n"
      ],
      "metadata": {
        "id": "kJiRjeboLH6w",
        "outputId": "9e095653-9cdb-4310-fa02-0289f5a7efd1",
        "colab": {
          "base_uri": "https://localhost:8080/"
        }
      },
      "execution_count": 42,
      "outputs": [
        {
          "output_type": "stream",
          "name": "stdout",
          "text": [
            "Enter the stirng:101010100001\n",
            "Not binary\n"
          ]
        }
      ]
    },
    {
      "cell_type": "markdown",
      "source": [
        "5. write a python Program to find uncommon words from two Strings?"
      ],
      "metadata": {
        "id": "RChv1nGJMJVx"
      }
    },
    {
      "cell_type": "code",
      "source": [
        "def task5(string1, string2):\n",
        "    string1 = string1.split(' ')\n",
        "    string2 = string2.split(' ')\n",
        "    uncommon = []\n",
        "\n",
        "    for i in set(string1):\n",
        "      if i not in string2:\n",
        "        uncommon.append(i)\n",
        "\n",
        "    for i in set(string2):\n",
        "        if i not in string1:\n",
        "          uncommon.append(i)\n",
        "\n",
        "    return uncommon\n",
        "\n",
        "string1 = \"write a Python program to split and join a string\"\n",
        "string2 = \"write a python to find uncommon words from two strings\"\n",
        "\n",
        "task5(string1,string2)\n",
        "\n"
      ],
      "metadata": {
        "id": "RQ25k-J-MWNX",
        "outputId": "49d58bdd-3986-45f3-857a-abe22336fd62",
        "colab": {
          "base_uri": "https://localhost:8080/"
        }
      },
      "execution_count": 50,
      "outputs": [
        {
          "output_type": "execute_result",
          "data": {
            "text/plain": [
              "['join',\n",
              " 'Python',\n",
              " 'string',\n",
              " 'split',\n",
              " 'and',\n",
              " 'program',\n",
              " 'strings',\n",
              " 'words',\n",
              " 'uncommon',\n",
              " 'from',\n",
              " 'find',\n",
              " 'python',\n",
              " 'two']"
            ]
          },
          "metadata": {},
          "execution_count": 50
        }
      ]
    },
    {
      "cell_type": "markdown",
      "source": [
        "6. write a Python to find all duplicate characters in stirng?\n"
      ],
      "metadata": {
        "id": "RcQN_SW3QDiH"
      }
    },
    {
      "cell_type": "code",
      "source": [
        "def task6(string: str):\n",
        "  duplicate = []\n",
        "  for i in string:\n",
        "    if string.count(i) > 1:\n",
        "      duplicate.append(i)\n",
        "  return set(duplicate)\n",
        "\n",
        "task6(\"find all duplicate characters in string\")\n"
      ],
      "metadata": {
        "id": "8xWjJRUMQRVj",
        "outputId": "481e95f2-2098-4aa3-abd8-138dc40422b6",
        "colab": {
          "base_uri": "https://localhost:8080/"
        }
      },
      "execution_count": 52,
      "outputs": [
        {
          "output_type": "execute_result",
          "data": {
            "text/plain": [
              "{' ', 'a', 'c', 'd', 'e', 'i', 'l', 'n', 'r', 's', 't'}"
            ]
          },
          "metadata": {},
          "execution_count": 52
        }
      ]
    },
    {
      "cell_type": "code",
      "source": [],
      "metadata": {
        "id": "HfCoyqRTRoeJ"
      },
      "execution_count": null,
      "outputs": []
    }
  ],
  "metadata": {
    "colab": {
      "provenance": []
    },
    "kernelspec": {
      "display_name": "Python 3",
      "name": "python3"
    },
    "language_info": {
      "name": "python"
    }
  },
  "nbformat": 4,
  "nbformat_minor": 0
}