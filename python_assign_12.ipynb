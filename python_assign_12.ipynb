{
  "cells": [
    {
      "cell_type": "markdown",
      "source": [
        "1.write a python program to Extract Unique values dictinary values?\n"
      ],
      "metadata": {
        "id": "aZ3baSxDFK9r"
      }
    },
    {
      "cell_type": "code",
      "source": [
        "dict1 = {'k1': 1,'k2': 1, 'k3': 'hello', 'k4':'hello', 'k5': 1234}\n",
        "\n",
        "unique_values = {i for  i in dict1.values()}\n",
        "\n",
        "unique_values"
      ],
      "metadata": {
        "id": "kM_qsE7tSBxB",
        "outputId": "7006d592-6f18-4df3-c2f0-84f0694b43d2",
        "colab": {
          "base_uri": "https://localhost:8080/"
        }
      },
      "execution_count": 54,
      "outputs": [
        {
          "output_type": "execute_result",
          "data": {
            "text/plain": [
              "{1, 1234, 'hello'}"
            ]
          },
          "metadata": {},
          "execution_count": 54
        }
      ]
    },
    {
      "cell_type": "markdown",
      "source": [
        "2. Write a Python Program to find the sum of all items in a dictionary?"
      ],
      "metadata": {
        "id": "aOAolZK_S498"
      }
    },
    {
      "cell_type": "code",
      "source": [
        "test_dict = {'k1': 89,\n",
        "             'k2' : 111,\n",
        "             'k3': 123,\n",
        "             'k4': 5}\n",
        "\n",
        "sum = 0\n",
        "for i in test_dict.values():\n",
        "    sum += sum + i\n",
        "print(\"sum of all values is: {} \" .format(sum))\n"
      ],
      "metadata": {
        "id": "cHu8_AKsTBAD",
        "outputId": "a2d08812-fdf8-4579-9430-e4b48df4a16e",
        "colab": {
          "base_uri": "https://localhost:8080/"
        }
      },
      "execution_count": 56,
      "outputs": [
        {
          "output_type": "stream",
          "name": "stdout",
          "text": [
            "sum of all values is: 1407 \n"
          ]
        }
      ]
    },
    {
      "cell_type": "markdown",
      "source": [
        "3. write a Python program to convert Key-values list to flat dictionary?\n"
      ],
      "metadata": {
        "id": "Ly8xA0PYT27w"
      }
    },
    {
      "cell_type": "code",
      "source": [
        "test_dict = {'month': [1,2,3], 'name': ['jan','feb', 'march']}\n",
        "\n",
        "#using dict() + zip() to convert key-values list to flat dictionary\n",
        "\n",
        "res= dict(zip(test_dict['month'], test_dict['name']))\n",
        "\n",
        "print(\"flattened dictionary :\" +str(res))\n",
        "\n"
      ],
      "metadata": {
        "id": "-PiCuMPcUE52",
        "outputId": "e96988ae-34a2-45e8-dc14-f35f32b02c78",
        "colab": {
          "base_uri": "https://localhost:8080/"
        }
      },
      "execution_count": 57,
      "outputs": [
        {
          "output_type": "stream",
          "name": "stdout",
          "text": [
            "flattened dictionary :{1: 'jan', 2: 'feb', 3: 'march'}\n"
          ]
        }
      ]
    },
    {
      "cell_type": "markdown",
      "source": [
        "4. write a python program to insertion at the beginning in OrderdDict?"
      ],
      "metadata": {
        "id": "T9A_8MUzVbrj"
      }
    },
    {
      "cell_type": "code",
      "source": [
        "from collections import OrderedDict\n",
        "\n",
        "#initializing ordered_dict\n",
        "\n",
        "iniordered_dict = OrderedDict([('feb', '2'), ('Mar','3')])\n",
        "\n",
        "# inserting items in starting of dict\n",
        "\n",
        "iniordered_dict.update({'jan': '1'})\n",
        "\n",
        "iniordered_dict.move_to_end('jan',last = False)\n",
        "\n",
        "# print result\n",
        "\n",
        "print(\"Ordered Dictionary after insertion :\" +str(iniordered_dict))\n",
        "\n",
        "\n"
      ],
      "metadata": {
        "id": "btsogc03Vk0C",
        "outputId": "a215418a-1188-45d7-f7a0-fb23c19ba16f",
        "colab": {
          "base_uri": "https://localhost:8080/"
        }
      },
      "execution_count": 60,
      "outputs": [
        {
          "output_type": "stream",
          "name": "stdout",
          "text": [
            "Ordered Dictionary after insertion :OrderedDict([('jan', '1'), ('feb', '2'), ('Mar', '3')])\n"
          ]
        }
      ]
    },
    {
      "cell_type": "markdown",
      "source": [
        "7.write a python Program to sort Python Dictinaries by key or value?\n"
      ],
      "metadata": {
        "id": "vpmkIAhSdmnM"
      }
    },
    {
      "cell_type": "code",
      "source": [
        "a = {'k1':2, 'k2':1, 'k':3, '4':4, '6':6, 'key7':7}\n",
        "\n",
        "# this will print a sorted list of the keys\n",
        "\n",
        "print(sorted(a.keys()))\n",
        "\n",
        "# this will print the sorted list with items.\n",
        "\n",
        "print(sorted(a.items()))\n",
        "\n",
        "#\n",
        "\n",
        "print(sorted(a.values()))\n",
        "\n"
      ],
      "metadata": {
        "id": "kZ7AcWPldkgP",
        "outputId": "b473bfa3-8489-4a5d-942d-4174b977ea3f",
        "colab": {
          "base_uri": "https://localhost:8080/"
        }
      },
      "execution_count": 61,
      "outputs": [
        {
          "output_type": "stream",
          "name": "stdout",
          "text": [
            "['4', '6', 'k', 'k1', 'k2', 'key7']\n",
            "[('4', 4), ('6', 6), ('k', 3), ('k1', 2), ('k2', 1), ('key7', 7)]\n",
            "[1, 2, 3, 4, 6, 7]\n"
          ]
        }
      ]
    }
  ],
  "metadata": {
    "colab": {
      "provenance": []
    },
    "kernelspec": {
      "display_name": "Python 3",
      "name": "python3"
    },
    "language_info": {
      "name": "python"
    }
  },
  "nbformat": 4,
  "nbformat_minor": 0
}