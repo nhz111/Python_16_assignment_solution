{
  "cells": [
    {
      "cell_type": "markdown",
      "source": [
        "1. Write a python Program to Display Fibonacci Sequence using Recursion?\n"
      ],
      "metadata": {
        "id": "kC2pV1Ie8KC0"
      }
    },
    {
      "cell_type": "code",
      "source": [
        "def fibo(a,b,c):\n",
        "  if c > 0:\n",
        "    c-=1\n",
        "    print(a, end= ' ')\n",
        "    temp = b\n",
        "    b= a + b\n",
        "    a= temp\n",
        "    fibo(a,b,c)\n",
        "\n",
        "fibo(0,1,10)\n"
      ],
      "metadata": {
        "colab": {
          "base_uri": "https://localhost:8080/"
        },
        "id": "ITkCupXT8UGp",
        "outputId": "8e9e67bb-a265-4247-dc9e-ea8e29df0828"
      },
      "execution_count": 37,
      "outputs": [
        {
          "output_type": "stream",
          "name": "stdout",
          "text": [
            "0 1 1 2 3 5 8 13 21 34 "
          ]
        }
      ]
    },
    {
      "cell_type": "markdown",
      "source": [
        "2. write a Python Program to Find Factorial of Number using Recursion?"
      ],
      "metadata": {
        "id": "mUgySSrk9svV"
      }
    },
    {
      "cell_type": "code",
      "source": [
        "def fact(n):\n",
        "  if n==0:\n",
        "    return 1\n",
        "  else:\n",
        "    return n*fact(n-1)\n",
        "fact(5)"
      ],
      "metadata": {
        "colab": {
          "base_uri": "https://localhost:8080/"
        },
        "id": "gjBUY0xL8hRm",
        "outputId": "71bae091-8e36-418f-a1a1-939a5d49121c"
      },
      "execution_count": 38,
      "outputs": [
        {
          "output_type": "execute_result",
          "data": {
            "text/plain": [
              "120"
            ]
          },
          "metadata": {},
          "execution_count": 38
        }
      ]
    },
    {
      "cell_type": "markdown",
      "source": [
        "3. write a Python Program to calculate your body Mass index?\n"
      ],
      "metadata": {
        "id": "ipa0E5Eb-pnN"
      }
    },
    {
      "cell_type": "code",
      "source": [
        "def bmi(height, weight):\n",
        "  return weight/(height*height)\n",
        "\n",
        "bmi(1.8,70)"
      ],
      "metadata": {
        "colab": {
          "base_uri": "https://localhost:8080/"
        },
        "id": "iDrqD0M0_ZR4",
        "outputId": "e55aa0e0-debe-4dc6-f31a-c978bafdd770"
      },
      "execution_count": 40,
      "outputs": [
        {
          "output_type": "execute_result",
          "data": {
            "text/plain": [
              "21.604938271604937"
            ]
          },
          "metadata": {},
          "execution_count": 40
        }
      ]
    },
    {
      "cell_type": "markdown",
      "source": [
        "4. write a Python Program to calculate the naural logarithm of any number?\n"
      ],
      "metadata": {
        "id": "cxKazJAgABH8"
      }
    },
    {
      "cell_type": "code",
      "source": [
        "import math\n",
        "\n",
        "try:\n",
        "  num = int(intput(\"Enter the number:\"))\n",
        "except Exception as e:\n",
        "  print(e)\n",
        "else:\n",
        "  print(math.log(num))\n",
        "\n"
      ],
      "metadata": {
        "colab": {
          "base_uri": "https://localhost:8080/"
        },
        "id": "fepeUZyAAO7r",
        "outputId": "c55dbfcf-9c9d-4a87-805a-ae8a5b8611e0"
      },
      "execution_count": 41,
      "outputs": [
        {
          "output_type": "stream",
          "name": "stdout",
          "text": [
            "name 'intput' is not defined\n"
          ]
        }
      ]
    },
    {
      "cell_type": "markdown",
      "source": [
        "5. write a python Program for cube sum of first n natural numbers?"
      ],
      "metadata": {
        "id": "I82tP0LuA6z4"
      }
    },
    {
      "cell_type": "code",
      "source": [
        "def cubN(n):\n",
        "  return sum(range(n+1))**3\n",
        "\n",
        "cubN(3)"
      ],
      "metadata": {
        "colab": {
          "base_uri": "https://localhost:8080/"
        },
        "id": "e5qaLhCMBWG5",
        "outputId": "3d6851a2-6603-408e-f728-4a270a31afdd"
      },
      "execution_count": 42,
      "outputs": [
        {
          "output_type": "execute_result",
          "data": {
            "text/plain": [
              "216"
            ]
          },
          "metadata": {},
          "execution_count": 42
        }
      ]
    }
  ],
  "metadata": {
    "colab": {
      "provenance": []
    },
    "kernelspec": {
      "display_name": "Python 3",
      "name": "python3"
    },
    "language_info": {
      "name": "python"
    }
  },
  "nbformat": 4,
  "nbformat_minor": 0
}