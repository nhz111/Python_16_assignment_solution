{
  "cells": [
    {
      "cell_type": "markdown",
      "metadata": {
        "id": "_TzV4fvHj7gH"
      },
      "source": [
        "1. write a python to check if a Number is Postitive, Negative or Zero?\n"
      ]
    },
    {
      "cell_type": "code",
      "source": [
        "# solution\n",
        "\n",
        "num=10\n",
        "\n",
        "if (num > 0):\n",
        "  print(num, \"is positive\")\n",
        "elif(num < 0):\n",
        "  print(num,\"is Negative\")\n",
        "else:\n",
        "  print(num, \"is Zero\")\n",
        "\n"
      ],
      "metadata": {
        "colab": {
          "base_uri": "https://localhost:8080/"
        },
        "id": "F-xDXdG-lQle",
        "outputId": "98270f5b-96fc-4849-82e9-b65746f800bb"
      },
      "execution_count": 1,
      "outputs": [
        {
          "output_type": "stream",
          "name": "stdout",
          "text": [
            "10 is positive\n"
          ]
        }
      ]
    },
    {
      "cell_type": "markdown",
      "source": [
        "2. Write a Python Program to check if a Number is odd or Even?\n"
      ],
      "metadata": {
        "id": "Mn9ghGCrl6XQ"
      }
    },
    {
      "cell_type": "code",
      "source": [
        "#solution\n",
        "\n",
        "num= int (input(\"Enter a number:\"))\n",
        "\n",
        "if(num % 2 ==0):\n",
        "  print(num,\"is a Even Number\")\n",
        "else:\n",
        "  print(num,\"is a odd Number\")\n",
        ""
      ],
      "metadata": {
        "colab": {
          "base_uri": "https://localhost:8080/"
        },
        "id": "J5Cm0oXimEMU",
        "outputId": "64a1c8d3-8a89-409f-9393-882a5803307b"
      },
      "execution_count": 3,
      "outputs": [
        {
          "output_type": "stream",
          "name": "stdout",
          "text": [
            "Enter a number:10\n",
            "10 is a Even Number\n"
          ]
        }
      ]
    },
    {
      "cell_type": "markdown",
      "source": [
        "3. write a python program to check Leap year?\n"
      ],
      "metadata": {
        "id": "uuFKY4gwqrqg"
      }
    },
    {
      "cell_type": "code",
      "source": [
        "#solution\n",
        "\n",
        "year=2020\n",
        "\n",
        "if (((year % 4==0) and (year % 100 !=0)) or (year % 400 ==0)):\n",
        "  print(\"leap year\")\n",
        "else:\n",
        "  print(\"not a leap year\")\n"
      ],
      "metadata": {
        "colab": {
          "base_uri": "https://localhost:8080/"
        },
        "id": "QwxNQnUOqqTI",
        "outputId": "f946851a-f67e-4dda-b91e-b7d3949ec29e"
      },
      "execution_count": 4,
      "outputs": [
        {
          "output_type": "stream",
          "name": "stdout",
          "text": [
            "leap year\n"
          ]
        }
      ]
    },
    {
      "cell_type": "markdown",
      "source": [
        "4. write a Python program to check Prime Number?\n"
      ],
      "metadata": {
        "id": "QmYu4OazrmpK"
      }
    },
    {
      "cell_type": "code",
      "source": [
        "#solution\n",
        "\n",
        "num= int(input(\"enter a number:\"))\n",
        "isPrime = True\n",
        "\n",
        "if num<=1:\n",
        "  print(num, \"is neither prime nor composite\")\n",
        "else:\n",
        "  d=2\n",
        "  while(d*d <= num):\n",
        "    if(num % d==0):\n",
        "      isPrime = False\n",
        "      break\n",
        "    d = d+1\n",
        "if (num > 1):\n",
        "  if (isPrime):\n",
        "    print(num, \"is prime number\")\n",
        "  else:\n",
        "    print(num, \"is not prime number\")\n"
      ],
      "metadata": {
        "colab": {
          "base_uri": "https://localhost:8080/"
        },
        "id": "2Gt3p2ATruhb",
        "outputId": "c9c523d8-ee7a-41e1-bdc6-8a087bca02fd"
      },
      "execution_count": 9,
      "outputs": [
        {
          "output_type": "stream",
          "name": "stdout",
          "text": [
            "enter a number:15\n",
            "15 is not prime number\n"
          ]
        }
      ]
    },
    {
      "cell_type": "markdown",
      "source": [
        "5. Write a python Program to print all prime Numbers in an interval of 1-10000?"
      ],
      "metadata": {
        "id": "6oyZZ8rrs_5i"
      }
    },
    {
      "cell_type": "code",
      "source": [
        "for i in range(1,101):\n",
        "  print(i, end='')"
      ],
      "metadata": {
        "colab": {
          "base_uri": "https://localhost:8080/"
        },
        "id": "qULvXvdws-0n",
        "outputId": "330837b2-44ca-4467-db17-bb9ca00f2be9"
      },
      "execution_count": 12,
      "outputs": [
        {
          "output_type": "stream",
          "name": "stdout",
          "text": [
            "123456789101112131415161718192021222324252627282930313233343536373839404142434445464748495051525354555657585960616263646566676869707172737475767778798081828384858687888990919293949596979899100"
          ]
        }
      ]
    },
    {
      "cell_type": "markdown",
      "source": [],
      "metadata": {
        "id": "k5mQH3ZYtleT"
      }
    }
  ],
  "metadata": {
    "colab": {
      "provenance": []
    },
    "kernelspec": {
      "display_name": "Python 3",
      "name": "python3"
    },
    "language_info": {
      "name": "python"
    }
  },
  "nbformat": 4,
  "nbformat_minor": 0
}