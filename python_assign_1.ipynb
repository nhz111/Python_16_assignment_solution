{
  "nbformat": 4,
  "nbformat_minor": 0,
  "metadata": {
    "colab": {
      "provenance": []
    },
    "kernelspec": {
      "name": "python3",
      "display_name": "Python 3"
    },
    "language_info": {
      "name": "python"
    }
  },
  "cells": [
    {
      "cell_type": "markdown",
      "source": [
        "1. write a python Program to print \"Hello Python\"?"
      ],
      "metadata": {
        "id": "_TzV4fvHj7gH"
      }
    },
    {
      "cell_type": "code",
      "source": [
        " #solution\n",
        "\n",
        " print(\"hello world\")\n"
      ],
      "metadata": {
        "colab": {
          "base_uri": "https://localhost:8080/"
        },
        "id": "1aAJ0_kkkEq-",
        "outputId": "f23a0030-16f8-442b-9a74-ae9e7dd07493"
      },
      "execution_count": 2,
      "outputs": [
        {
          "output_type": "stream",
          "name": "stdout",
          "text": [
            "hello world\n",
            "hello world\n"
          ]
        }
      ]
    },
    {
      "cell_type": "markdown",
      "source": [
        "2. write a Python to do arithmetical operations addition and division?\n"
      ],
      "metadata": {
        "id": "tEvuGgxLkfLe"
      }
    },
    {
      "cell_type": "code",
      "source": [
        "#solution\n",
        "\n",
        "a= 10\n",
        "b=2\n",
        "\n",
        "# addition\n",
        "\n",
        "add= a+b\n",
        "\n",
        "# division\n",
        "\n",
        "division = a/b\n",
        "\n",
        "print(add)\n",
        "print(division)\n"
      ],
      "metadata": {
        "colab": {
          "base_uri": "https://localhost:8080/"
        },
        "id": "DlyO9Ok7knar",
        "outputId": "cbfcf706-bfcd-4fbb-fbc9-48bd939d0bb0"
      },
      "execution_count": 1,
      "outputs": [
        {
          "output_type": "stream",
          "name": "stdout",
          "text": [
            "12\n",
            "5.0\n",
            "12\n",
            "5.0\n"
          ]
        }
      ]
    },
    {
      "cell_type": "markdown",
      "source": [
        "3. write a python program to find the area of a triangle?\n"
      ],
      "metadata": {
        "id": "NlVgpCJDnOQn"
      }
    },
    {
      "cell_type": "code",
      "source": [
        "# solution\n",
        "\n",
        "height = 100\n",
        "\n",
        "base = 25\n",
        "\n",
        "area = height*base/2\n",
        "\n",
        "print(\"Area of triangle:\", area)\n"
      ],
      "metadata": {
        "colab": {
          "base_uri": "https://localhost:8080/"
        },
        "id": "yfQOD27VnV8S",
        "outputId": "61f881f5-10d4-4220-b24a-4f22fdad8a9e"
      },
      "execution_count": 5,
      "outputs": [
        {
          "output_type": "stream",
          "name": "stdout",
          "text": [
            "Area of triangle: 1250.0\n"
          ]
        }
      ]
    },
    {
      "cell_type": "markdown",
      "source": [
        "4. write a Python program to swap two variables?\n"
      ],
      "metadata": {
        "id": "ludhzY1Bn5qd"
      }
    },
    {
      "cell_type": "code",
      "source": [
        "a=10\n",
        "b=5\n",
        "a,b = b,a\n",
        "\n",
        "print(a,b)"
      ],
      "metadata": {
        "colab": {
          "base_uri": "https://localhost:8080/"
        },
        "id": "Q5-6U3NgoDgu",
        "outputId": "945086e8-79be-439f-ce1a-79330a494dfd"
      },
      "execution_count": 7,
      "outputs": [
        {
          "output_type": "stream",
          "name": "stdout",
          "text": [
            "5 10\n"
          ]
        }
      ]
    },
    {
      "cell_type": "markdown",
      "source": [
        "5. write a python  program to generate a random number?\n",
        "\n",
        "\n"
      ],
      "metadata": {
        "id": "aVRSIzCqokU2"
      }
    },
    {
      "cell_type": "code",
      "source": [
        "import random\n",
        "\n",
        "print(random.random())\n",
        "\n",
        "print(random.randint(1,1000))"
      ],
      "metadata": {
        "colab": {
          "base_uri": "https://localhost:8080/"
        },
        "id": "mcQ_5csZo3V_",
        "outputId": "55cc8344-e2e5-4754-b00f-8fc86704e209"
      },
      "execution_count": 9,
      "outputs": [
        {
          "output_type": "stream",
          "name": "stdout",
          "text": [
            "0.35840565745562525\n",
            "283\n"
          ]
        }
      ]
    }
  ]
}