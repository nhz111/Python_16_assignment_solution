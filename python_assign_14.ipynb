{
  "cells": [
    {
      "cell_type": "markdown",
      "source": [
        "1.Define a class with a gerator wchich can iterat the numbers, which are divisible by 7, Between  a given range 0 and n.\n",
        "\n"
      ],
      "metadata": {
        "id": "aZ3baSxDFK9r"
      }
    },
    {
      "cell_type": "code",
      "source": [
        "class Task1:\n",
        "  def gen(self, n):\n",
        "    for i in range(n+1):\n",
        "      if i%7 == 0:\n",
        "        yield i\n",
        "\n",
        "nums = Task1()\n",
        "[i for i in nums.gen(100)]\n",
        "\n"
      ],
      "metadata": {
        "id": "4Lo-aX2zxbHg",
        "outputId": "5fbdfc4c-8c16-4673-e8d8-c3c69aa98a1d",
        "colab": {
          "base_uri": "https://localhost:8080/"
        }
      },
      "execution_count": 82,
      "outputs": [
        {
          "output_type": "execute_result",
          "data": {
            "text/plain": [
              "[0, 7, 14, 21, 28, 35, 42, 49, 56, 63, 70, 77, 84, 91, 98]"
            ]
          },
          "metadata": {},
          "execution_count": 82
        }
      ]
    },
    {
      "cell_type": "markdown",
      "source": [
        "2.write a program to compute the frequency of the words froms the input. The output should output after sorting the key alphanumerically."
      ],
      "metadata": {
        "id": "yCd0muSCzFCT"
      }
    },
    {
      "cell_type": "code",
      "source": [
        "def task2(string: str):\n",
        "  string_list = string.split(' ')\n",
        "  out_dict = { }\n",
        "\n",
        "  for s in string_list:\n",
        "    if s in out_dict.keys():\n",
        "      out_dict[s] += 1\n",
        "    else:\n",
        "      out_dict[s] = 1\n",
        "\n",
        "  for k,v in sorted(out_dict.items()):\n",
        "    print(k, ':', v)\n",
        "\n",
        "task2('new to Python or choosing between python 2 and Python 3? Read Python 2 or Python3')"
      ],
      "metadata": {
        "id": "9NvS2d-Szbn-",
        "outputId": "b845f85b-6394-479a-c45b-ed59a556b38b",
        "colab": {
          "base_uri": "https://localhost:8080/"
        }
      },
      "execution_count": 88,
      "outputs": [
        {
          "output_type": "stream",
          "name": "stdout",
          "text": [
            "2 : 2\n",
            "3? : 1\n",
            "Python : 3\n",
            "Python3 : 1\n",
            "Read : 1\n",
            "and : 1\n",
            "between : 1\n",
            "choosing : 1\n",
            "new : 1\n",
            "or : 2\n",
            "python : 1\n",
            "to : 1\n"
          ]
        }
      ]
    },
    {
      "cell_type": "markdown",
      "source": [
        "3. Define a class person and it's two child classes: Male and Female. all classes have a method \"getGender\" which can print \"Male\" for male class and \"Female\"  for Female class."
      ],
      "metadata": {
        "id": "Wp8NjA_62tBX"
      }
    },
    {
      "cell_type": "code",
      "source": [
        "class Person:\n",
        "  def getGender(self):\n",
        "    pass\n",
        "\n",
        "class Male(Person):\n",
        "  def getGender(self):\n",
        "    print('male')\n",
        "\n",
        "class Female(Person):\n",
        "  def getGender(self):\n",
        "    print('Female')\n",
        "\n",
        "male = Male()\n",
        "female = Female()\n",
        "male.getGender()\n",
        "female.getGender()"
      ],
      "metadata": {
        "id": "rnqLIBV23G-E",
        "outputId": "81006119-cf83-4b19-c405-88938ead5c50",
        "colab": {
          "base_uri": "https://localhost:8080/"
        }
      },
      "execution_count": 89,
      "outputs": [
        {
          "output_type": "stream",
          "name": "stdout",
          "text": [
            "male\n",
            "Female\n"
          ]
        }
      ]
    },
    {
      "cell_type": "markdown",
      "source": [
        "4. please write a program to gerates all sentences where sumbject is in [\"I\", \"you\"] and verb is in ['play', \"Love\"] and the object is in [\"Hockey\", \"Football]"
      ],
      "metadata": {
        "id": "FgjV0rZA4BI9"
      }
    },
    {
      "cell_type": "code",
      "source": [
        "subject = [ \"I\", \"you\"]\n",
        "\n",
        "verb = [\"play\", \"love\"]\n",
        "\n",
        "obj = [\"Hockey\", \"Football\"]\n",
        "\n",
        "sentence_list = []\n",
        "\n",
        "for i in subject:\n",
        "  for j in verb:\n",
        "    for k in obj:\n",
        "      sentence_list.append(i + \" \" + j + \" \" + k)\n",
        "\n",
        "for sentence in sentence_list:\n",
        "  print(sentence)"
      ],
      "metadata": {
        "id": "LU41yqC04iv-",
        "outputId": "0202ffe4-381d-4021-9895-f4bd8208d069",
        "colab": {
          "base_uri": "https://localhost:8080/"
        }
      },
      "execution_count": 92,
      "outputs": [
        {
          "output_type": "stream",
          "name": "stdout",
          "text": [
            "I play Hockey\n",
            "I play Football\n",
            "I love Hockey\n",
            "I love Football\n",
            "you play Hockey\n",
            "you play Football\n",
            "you love Hockey\n",
            "you love Football\n"
          ]
        }
      ]
    },
    {
      "cell_type": "markdown",
      "source": [
        "6. please write a binary search function which searches an item in a sorted list. The function should teturn the index of element to be in the list."
      ],
      "metadata": {
        "id": "mRYMJcOh5hzd"
      }
    },
    {
      "cell_type": "code",
      "source": [
        "def binarySearch(list1, n):\n",
        "\n",
        "  low = 0\n",
        "  high = len(list1) -1\n",
        "  mid = 0\n",
        "\n",
        "  while low <= high:\n",
        "    mid = (high + low) // 2\n",
        "    if list1[mid] < n:\n",
        "      low = mid + 1\n",
        "    elif list1[mid] > n:\n",
        "      high = mid -1\n",
        "    else:\n",
        "        return mid\n",
        "  return -1\n",
        "\n",
        "  sorted_list = [1,4,5,12,54,678,1235]\n",
        "  binarySearch(sorted_list, 54)"
      ],
      "metadata": {
        "id": "YFJrzgDB6UWH"
      },
      "execution_count": 99,
      "outputs": []
    },
    {
      "cell_type": "markdown",
      "source": [],
      "metadata": {
        "id": "B7HDftU99OhU"
      }
    }
  ],
  "metadata": {
    "colab": {
      "provenance": []
    },
    "kernelspec": {
      "display_name": "Python 3",
      "name": "python3"
    },
    "language_info": {
      "name": "python"
    }
  },
  "nbformat": 4,
  "nbformat_minor": 0
}