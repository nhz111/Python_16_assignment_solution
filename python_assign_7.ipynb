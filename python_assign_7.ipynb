{
  "cells": [
    {
      "cell_type": "markdown",
      "source": [
        "1. Write a Python Program to find sum of elements in list?\n"
      ],
      "metadata": {
        "id": "U6leRjkXsXoC"
      }
    },
    {
      "cell_type": "code",
      "source": [
        "l = [2,4,1,5,6,7]\n",
        "\n",
        "total = 0\n",
        "for i in l:\n",
        "  total +=i\n",
        "print(total)\n",
        "\n"
      ],
      "metadata": {
        "id": "HCR8luIQsfz_",
        "outputId": "796642a3-e7a7-4cb6-9068-3b512a778e46",
        "colab": {
          "base_uri": "https://localhost:8080/"
        }
      },
      "execution_count": 11,
      "outputs": [
        {
          "output_type": "stream",
          "name": "stdout",
          "text": [
            "25\n"
          ]
        }
      ]
    },
    {
      "cell_type": "markdown",
      "source": [
        "2. Write a Python Program to Multiply all numbers in the list?\n"
      ],
      "metadata": {
        "id": "vrbSeWgXszvC"
      }
    },
    {
      "cell_type": "code",
      "source": [
        "l = [2,4,1,5,6,7]\n",
        "\n",
        "mul= 1\n",
        "for i in l:\n",
        "  mul +=i\n",
        "print(mul)\n"
      ],
      "metadata": {
        "id": "ZsS3bTHvs6db",
        "outputId": "08990702-c1f8-49f6-a46e-bd3621b87ea1",
        "colab": {
          "base_uri": "https://localhost:8080/"
        }
      },
      "execution_count": 12,
      "outputs": [
        {
          "output_type": "stream",
          "name": "stdout",
          "text": [
            "26\n"
          ]
        }
      ]
    },
    {
      "cell_type": "markdown",
      "source": [
        "3. Write a Python Program to find smallest number in a list?\n"
      ],
      "metadata": {
        "id": "PXTLyqhYtK4N"
      }
    },
    {
      "cell_type": "code",
      "source": [
        "l = [2,0,1,1235,6,-7123]\n",
        "\n",
        "minimum= l[0]\n",
        "\n",
        "for i in l:\n",
        "  if i < minimum:\n",
        "    minimum = i\n",
        "  print(minimum)"
      ],
      "metadata": {
        "id": "Nn7kIvVutR37",
        "outputId": "05e8c2e7-ea4c-4f7f-d8b3-b43e8bedd0b2",
        "colab": {
          "base_uri": "https://localhost:8080/"
        }
      },
      "execution_count": 13,
      "outputs": [
        {
          "output_type": "stream",
          "name": "stdout",
          "text": [
            "2\n",
            "0\n",
            "0\n",
            "0\n",
            "0\n",
            "-7123\n"
          ]
        }
      ]
    },
    {
      "cell_type": "markdown",
      "source": [
        "4. Write a Python Program to find largest number in a list?\n"
      ],
      "metadata": {
        "id": "VTZ_nVent18_"
      }
    },
    {
      "cell_type": "code",
      "source": [
        "l =[2,0,1,1235,6,-7123]\n",
        "\n",
        "maximum = l[0]\n",
        "\n",
        "for i in l:\n",
        "  if i > maximum:\n",
        "    maximum = i\n",
        "print(maximum)"
      ],
      "metadata": {
        "id": "9KZvI8XhuBEg",
        "outputId": "bc4dbbf2-baa2-4a4f-b972-7c83aafe7faa",
        "colab": {
          "base_uri": "https://localhost:8080/"
        }
      },
      "execution_count": 14,
      "outputs": [
        {
          "output_type": "stream",
          "name": "stdout",
          "text": [
            "1235\n"
          ]
        }
      ]
    },
    {
      "cell_type": "markdown",
      "source": [
        "5. Write a Python Program to find secon largest number in a list?\n"
      ],
      "metadata": {
        "id": "Zg9zDpdruYO3"
      }
    },
    {
      "cell_type": "code",
      "source": [
        "l = [2,0,1,1235,6,-7123]\n",
        "\n",
        "l.sort(reverse= True)\n",
        "\n",
        "print(\"second largest number:\", l[1])\n"
      ],
      "metadata": {
        "id": "cj5tggg-uh1D",
        "outputId": "da2c779d-f419-468a-e799-a8dcf6ba4feb",
        "colab": {
          "base_uri": "https://localhost:8080/"
        }
      },
      "execution_count": 15,
      "outputs": [
        {
          "output_type": "stream",
          "name": "stdout",
          "text": [
            "second largest number: 6\n"
          ]
        }
      ]
    },
    {
      "cell_type": "markdown",
      "source": [],
      "metadata": {
        "id": "xMvzD05Ey3oy"
      }
    }
  ],
  "metadata": {
    "colab": {
      "provenance": []
    },
    "kernelspec": {
      "display_name": "Python 3",
      "name": "python3"
    },
    "language_info": {
      "name": "python"
    }
  },
  "nbformat": 4,
  "nbformat_minor": 0
}