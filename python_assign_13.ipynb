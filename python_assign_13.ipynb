{
  "cells": [
    {
      "cell_type": "markdown",
      "source": [
        "1.write a python program that accepts a comma seperted sequence of words as input and prints the words in a comma-seperated sequence after sorting them alphabetically?\n"
      ],
      "metadata": {
        "id": "aZ3baSxDFK9r"
      }
    },
    {
      "cell_type": "code",
      "source": [
        "words = list(input(\"Enter comma Seperated words: \").split(','))\n",
        "\n",
        "words.sort()\n",
        "\n",
        "print(','.join(words))\n"
      ],
      "metadata": {
        "id": "QwAudMELfRou",
        "outputId": "2fa4533b-666c-4205-a38c-2346e54937a7",
        "colab": {
          "base_uri": "https://localhost:8080/"
        }
      },
      "execution_count": 68,
      "outputs": [
        {
          "output_type": "stream",
          "name": "stdout",
          "text": [
            "Enter comma Seperated words: Narayan, Submitted, assingment\n",
            " Submitted, assingment,Narayan\n"
          ]
        }
      ]
    },
    {
      "cell_type": "markdown",
      "source": [
        "2. write a program that accepts a sequence of whitespaces separted words as input and prints the words after removing all duplicates words and sorting them alphanumerically.\n"
      ],
      "metadata": {
        "id": "hvwGRzCmhUZV"
      }
    },
    {
      "cell_type": "code",
      "source": [
        "words = list(set(input(\"Enter comma seperated words:\").split(' ')))\n",
        "\n",
        "words.sort()\n",
        "\n",
        "print(' '.join(words))"
      ],
      "metadata": {
        "id": "HB_pkF-Ohu9t",
        "outputId": "238fd281-3fb8-4c7e-8fdc-36e2bf8cf4f5",
        "colab": {
          "base_uri": "https://localhost:8080/"
        }
      },
      "execution_count": 72,
      "outputs": [
        {
          "output_type": "stream",
          "name": "stdout",
          "text": [
            "Enter comma seperated words:hello, world, by inueron.ai\n",
            "by hello, inueron.ai world,\n"
          ]
        }
      ]
    },
    {
      "cell_type": "markdown",
      "source": [
        "6. A website requires the users to input username and password to register. write a programe to check the validity of password input by users."
      ],
      "metadata": {
        "id": "7mQ5TImHiuG6"
      }
    },
    {
      "cell_type": "code",
      "source": [],
      "metadata": {
        "id": "Qh-t3YG-wxmq"
      },
      "execution_count": null,
      "outputs": []
    },
    {
      "cell_type": "code",
      "source": [
        "username= input('Enter username:')\n",
        "\n",
        "password= input('Enter password:')\n",
        "\n",
        "if username=='Admin':\n",
        "  if password=='Admin123':\n",
        "    print(\"user Authenticated\")\n",
        "  else:\n",
        "    print(\"incorrect username or password\")\n",
        "\n",
        "else:\n",
        "  print(\"incorrect username or password\")\n"
      ],
      "metadata": {
        "id": "YdzXSyiyi8NR",
        "outputId": "4008cebd-9e38-4987-c6b9-d0ae7981eead",
        "colab": {
          "base_uri": "https://localhost:8080/"
        }
      },
      "execution_count": 75,
      "outputs": [
        {
          "output_type": "stream",
          "name": "stdout",
          "text": [
            "Enter username:Admin\n",
            "Enter password:Admin123\n",
            "user Authenticated\n"
          ]
        }
      ]
    }
  ],
  "metadata": {
    "colab": {
      "provenance": []
    },
    "kernelspec": {
      "display_name": "Python 3",
      "name": "python3"
    },
    "language_info": {
      "name": "python"
    }
  },
  "nbformat": 4,
  "nbformat_minor": 0
}