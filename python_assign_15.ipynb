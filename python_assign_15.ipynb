{
  "cells": [
    {
      "cell_type": "markdown",
      "source": [
        "1. Please write a program using generator to print the numbers which can be divisible by 5 and between 0 and n in comma separated form while n is input by console.\n",
        "\n"
      ],
      "metadata": {
        "id": "aZ3baSxDFK9r"
      }
    },
    {
      "cell_type": "code",
      "source": [
        "def task1(n):\n",
        "  for i in range(n+1):\n",
        "    if i % 5 ==0 and i % 7 ==0:\n",
        "      yield str(i)+ ' '\n",
        "task1(100)"
      ],
      "metadata": {
        "colab": {
          "base_uri": "https://localhost:8080/"
        },
        "id": "bJT1Q2gD9yDH",
        "outputId": "6d3314c0-b3c5-4361-fd34-be91aa4e3e81"
      },
      "execution_count": 101,
      "outputs": [
        {
          "output_type": "execute_result",
          "data": {
            "text/plain": [
              "<generator object task1 at 0x7bf79f9f7990>"
            ]
          },
          "metadata": {},
          "execution_count": 101
        }
      ]
    },
    {
      "cell_type": "markdown",
      "source": [
        "2. please write a program using genrator to print the even numbers 0 and n in comma seperated  form while n is input by console.\n"
      ],
      "metadata": {
        "id": "RstvlVsy-VJc"
      }
    },
    {
      "cell_type": "code",
      "source": [
        "def task2(n):\n",
        "  for i in range(n+1):\n",
        "    if i % 2 == 0:\n",
        "      yield str(i)\n",
        "\n",
        "print(','.join([i for i in task2(10)]))\n"
      ],
      "metadata": {
        "colab": {
          "base_uri": "https://localhost:8080/"
        },
        "id": "Bx7rT-6K-j5y",
        "outputId": "b123393e-778d-4f47-e2af-138e9ca07e9e"
      },
      "execution_count": 104,
      "outputs": [
        {
          "output_type": "stream",
          "name": "stdout",
          "text": [
            "0,2,4,6,8,10\n"
          ]
        }
      ]
    },
    {
      "cell_type": "markdown",
      "source": [
        "3. Please write a program using list comprehension to print the Fibonacci Sequence in comma a separated form with a given n input by console.\n"
      ],
      "metadata": {
        "id": "Dx7cwuGR_XH0"
      }
    },
    {
      "cell_type": "code",
      "source": [
        "def fibo(n):\n",
        "  i = 0\n",
        "  j= 1\n",
        "  for k in range(n+1):\n",
        "    yield i\n",
        "    i,j = j, i + j\n",
        "\n",
        "print(','.join([str(num) for num in fibo(7)]))"
      ],
      "metadata": {
        "colab": {
          "base_uri": "https://localhost:8080/"
        },
        "id": "8Tia0iYo_mVQ",
        "outputId": "37e2edbc-5f34-41c1-e30b-a10546d53ab4"
      },
      "execution_count": 106,
      "outputs": [
        {
          "output_type": "stream",
          "name": "stdout",
          "text": [
            "0,1,1,2,3,5,8,13\n"
          ]
        }
      ]
    },
    {
      "cell_type": "markdown",
      "source": [
        "5. Assuming that we have some email addresses in the \"username@companyname.com\" format. please write program to print the user name of a given email address. Both user names and company name are composed of letters only.\n"
      ],
      "metadata": {
        "id": "Mk3lXoi6AJhR"
      }
    },
    {
      "cell_type": "code",
      "source": [
        "def username(email: str):\n",
        "  return email.split('@')[0]\n",
        "\n",
        "username('john@google.com')\n"
      ],
      "metadata": {
        "colab": {
          "base_uri": "https://localhost:8080/",
          "height": 36
        },
        "id": "oQIKiwXQAi9O",
        "outputId": "c7b859a6-dbcb-4b5d-a73a-41dc98f78f25"
      },
      "execution_count": 107,
      "outputs": [
        {
          "output_type": "execute_result",
          "data": {
            "text/plain": [
              "'john'"
            ],
            "application/vnd.google.colaboratory.intrinsic+json": {
              "type": "string"
            }
          },
          "metadata": {},
          "execution_count": 107
        }
      ]
    }
  ],
  "metadata": {
    "colab": {
      "provenance": []
    },
    "kernelspec": {
      "display_name": "Python 3",
      "name": "python3"
    },
    "language_info": {
      "name": "python"
    }
  },
  "nbformat": 4,
  "nbformat_minor": 0
}